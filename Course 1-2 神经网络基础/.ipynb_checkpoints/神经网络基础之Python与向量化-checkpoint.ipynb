{
 "cells": [
  {
   "cell_type": "markdown",
   "metadata": {},
   "source": [
    "## 向量化(Vectorization)\n",
    "> 深度学习算法中，数据量很大，在程序中应该尽量减少使用loop循环语句，而使用向量运算来提高程序运行速度\n"
   ]
  },
  {
   "cell_type": "code",
   "execution_count": 3,
   "metadata": {
    "collapsed": false
   },
   "outputs": [
    {
     "name": "stdout",
     "output_type": "stream",
     "text": [
      "249754.303413\n",
      "vectorized version:3.99994850159ms\n",
      "249754.303413\n",
      "for loop:1044.00014877ms\n"
     ]
    }
   ],
   "source": [
    "import numpy as np\n",
    "import time\n",
    "\n",
    "a = np.random.rand(1000000)\n",
    "b = np.random.rand(1000000)\n",
    "\n",
    "tic = time.time()\n",
    "c = np.dot(a,b)      #点乘\n",
    "toc = time.time()\n",
    "print c\n",
    "print \"vectorized version:\" + str(1000*(toc-tic))+\"ms\"\n",
    "\n",
    "c = 0\n",
    "tic = time.time()\n",
    "for i in range(1000000):\n",
    "    c+=a[i]*b[i]\n",
    "toc = time.time()\n",
    "\n",
    "print c\n",
    "print \"for loop:\" + str(1000*(toc-tic))+\"ms\""
   ]
  },
  {
   "cell_type": "markdown",
   "metadata": {},
   "source": [
    "**CPU与GPU**\n",
    "\n",
    "为了加快深度学习神经网络运算速度，可以使用比CPU运算能力更强大的GPU。实际上GPU和CPU都有并行指令（parallelization instructions），称为Single Instruction Multiple Data（SIMD）。SIMD是单指令多数据流，能够复制多个操作数，并把它们打包在大型寄存器的一组指令集。SIMD能够大大提高程序运行速度，例如python的numpy库中的内建函数（built-in function）就是使用了SIMD指令。相比而言，GPU的SIMD要比CPU更强大一些。"
   ]
  },
  {
   "cell_type": "markdown",
   "metadata": {},
   "source": [
    "## 逻辑回归向量化"
   ]
  },
  {
   "cell_type": "markdown",
   "metadata": {
    "collapsed": true
   },
   "source": [
    "<img src=\"../pic/c1-2/formula1.png\">"
   ]
  },
  {
   "cell_type": "markdown",
   "metadata": {
    "collapsed": true
   },
   "source": [
    "在python的numpy库中可以表示为：\n",
    "\n",
    "**Z = np.dot(w.T,X)+b**\n",
    "\n",
    "**A = sigmoid(Z)**"
   ]
  },
  {
   "cell_type": "markdown",
   "metadata": {
    "collapsed": true
   },
   "source": [
    "## 梯度下降向量化\n",
    "\n",
    "对于所有m个样本，dZ的维度是（1，m），可表示为：\n",
    "\n",
    "+ dZ = A-Y\n",
    "+ dw = 1/m*np.dot(X,dZ.T) \n",
    "\n",
    "+ db = 1/m*np.sum(dZ)\n",
    "\n",
    "+ w = w - alpha*dw\n",
    "\n",
    "+ b = b - alpha*db"
   ]
  },
  {
   "cell_type": "markdown",
   "metadata": {
    "collapsed": true
   },
   "source": [
    "## 广播（Broadcasting）\n",
    "\n",
    "> 就是python中可以对不同维度的矩阵进行四则混合运算，但至少保证有一个维度是相同的\n",
    "\n",
    "<img src=\"../pic/c1-2/image1.png\">\n",
    "\n",
    "    在python程序中为了保证矩阵运算正确，可以使用**reshape()**函数来对矩阵设定所需的维度。这是一个很好且有用的习惯。"
   ]
  },
  {
   "cell_type": "markdown",
   "metadata": {
    "collapsed": true
   },
   "source": [
    "## python的小技巧"
   ]
  },
  {
   "cell_type": "code",
   "execution_count": 4,
   "metadata": {
    "collapsed": false
   },
   "outputs": [
    {
     "data": {
      "text/plain": [
       "array([-1.77895291, -0.31381631, -0.24494819, -0.07716835,  0.29886825])"
      ]
     },
     "execution_count": 4,
     "metadata": {},
     "output_type": "execute_result"
    }
   ],
   "source": [
    "a = np.random.randn(5)\n",
    "a"
   ]
  },
  {
   "cell_type": "markdown",
   "metadata": {
    "collapsed": true
   },
   "source": [
    "    这条语句生成的a的维度是（5，）。它既不是行向量也不是列向量，我们把a叫做rank 1 array.如我们对a进行转置，还是会得到a本身。\n",
    "    所以，如果我们要定义（5，1）的列向量或者（1，5）的行向量，最好使用下来标准语句，避免使用rank 1 array。"
   ]
  },
  {
   "cell_type": "code",
   "execution_count": 9,
   "metadata": {
    "collapsed": false
   },
   "outputs": [
    {
     "data": {
      "text/plain": [
       "array([[ 1.39049414, -0.34162046,  0.09362724, -0.91976942, -0.2218661 ]])"
      ]
     },
     "execution_count": 9,
     "metadata": {},
     "output_type": "execute_result"
    }
   ],
   "source": [
    "a = np.random.randn(5,1)\n",
    "b = np.random.randn(1,5)\n",
    "b"
   ]
  },
  {
   "cell_type": "code",
   "execution_count": 13,
   "metadata": {
    "collapsed": false
   },
   "outputs": [],
   "source": [
    "#可以使用assert语句对向量或数组的维度进行判断，如果不是，则程序在此处停止\n",
    "assert(a.shape == (5,1))"
   ]
  },
  {
   "cell_type": "code",
   "execution_count": 14,
   "metadata": {
    "collapsed": false
   },
   "outputs": [
    {
     "data": {
      "text/plain": [
       "array([[ 0.31820565],\n",
       "       [-0.21141833],\n",
       "       [-0.54657599],\n",
       "       [-0.11677999],\n",
       "       [-0.15845233]])"
      ]
     },
     "execution_count": 14,
     "metadata": {},
     "output_type": "execute_result"
    }
   ],
   "source": [
    "#使用reshape函数对数组设定所需的维度\n",
    "a.reshape((5,1))"
   ]
  },
  {
   "cell_type": "code",
   "execution_count": 5,
   "metadata": {
    "collapsed": false
   },
   "outputs": [
    {
     "data": {
      "text/plain": [
       "array([[  56. ,    0. ,    4.4,   68. ],\n",
       "       [   1.2,  104. ,   52. ,    8. ],\n",
       "       [   1.8,  135. ,   99. ,    0.9]])"
      ]
     },
     "execution_count": 5,
     "metadata": {},
     "output_type": "execute_result"
    }
   ],
   "source": [
    "A = np.array([[56.0, 0.0, 4.4, 68.0],\n",
    "             [1.2, 104.0, 52, 8],\n",
    "             [1.8, 135.0, 99, 0.9]])\n",
    "A"
   ]
  }
 ],
 "metadata": {
  "kernelspec": {
   "display_name": "Python 2",
   "language": "python",
   "name": "python2"
  },
  "language_info": {
   "codemirror_mode": {
    "name": "ipython",
    "version": 2
   },
   "file_extension": ".py",
   "mimetype": "text/x-python",
   "name": "python",
   "nbconvert_exporter": "python",
   "pygments_lexer": "ipython2",
   "version": "2.7.13"
  }
 },
 "nbformat": 4,
 "nbformat_minor": 2
}
